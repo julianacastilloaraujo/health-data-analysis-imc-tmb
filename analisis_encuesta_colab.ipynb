{
 "cells": [
  {
   "cell_type": "code",
   "execution_count": null,
   "id": "1f308aca",
   "metadata": {},
   "outputs": [],
   "source": [
    "# Importar librerías necesarias\n",
    "import pandas as pd\n",
    "import matplotlib.pyplot as plt\n",
    "import seaborn as sns"
   ]
  },
  {
   "cell_type": "code",
   "execution_count": null,
   "id": "c36f1770",
   "metadata": {},
   "outputs": [],
   "source": [
    "# Cargar archivo Excel\n",
    "# Asegúrate de subir primero el archivo 'encuesta HD mayo 2025.xlsx'\n",
    "from google.colab import files\n",
    "uploaded = files.upload()\n",
    "\n",
    "# Leer los datos\n",
    "df = pd.read_excel('encuesta HD mayo 2025.xlsx')"
   ]
  },
  {
   "cell_type": "code",
   "execution_count": null,
   "id": "b063370d",
   "metadata": {},
   "outputs": [],
   "source": [
    "# Limpiar nombres de columnas\n",
    "df.columns = df.columns.str.strip().str.replace(r'\\s+\\[.*?\\]', '', regex=True).str.lower()"
   ]
  },
  {
   "cell_type": "code",
   "execution_count": null,
   "id": "59b68d75",
   "metadata": {},
   "outputs": [],
   "source": [
    "# Calcular IMC y TMB\n",
    "df['imc'] = df['peso'] / (df['altura'] ** 2)\n",
    "df['altura_cm'] = df['altura'] * 100\n",
    "df['tmb'] = df.apply(lambda row: (\n",
    "    10 * row['peso'] + 6.25 * row['altura_cm'] - 5 * row['edad'] + (5 if row['sexo'] == 'Hombre' else -161)\n",
    "), axis=1)"
   ]
  },
  {
   "cell_type": "code",
   "execution_count": null,
   "id": "398fb177",
   "metadata": {},
   "outputs": [],
   "source": [
    "# Categorizar IMC\n",
    "def categorizar_imc(imc):\n",
    "    if imc < 18.5:\n",
    "        return 'Bajo peso'\n",
    "    elif 18.5 <= imc < 25:\n",
    "        return 'Normal'\n",
    "    elif 25 <= imc < 30:\n",
    "        return 'Sobrepeso'\n",
    "    else:\n",
    "        return 'Obesidad'\n",
    "df['categoria_imc'] = df['imc'].apply(categorizar_imc)"
   ]
  },
  {
   "cell_type": "code",
   "execution_count": null,
   "id": "50dabaf9",
   "metadata": {},
   "outputs": [],
   "source": [
    "# Estadísticas descriptivas\n",
    "desc_stats = df.describe().round(2)\n",
    "desc_stats"
   ]
  },
  {
   "cell_type": "code",
   "execution_count": null,
   "id": "151ea9f9",
   "metadata": {},
   "outputs": [],
   "source": [
    "# Histogramas de variables numéricas\n",
    "num_cols = ['peso', 'altura', 'edad', 'imc', 'tmb']\n",
    "for col in num_cols:\n",
    "    plt.figure(figsize=(6, 4))\n",
    "    sns.histplot(df[col], bins=10, color='orange', edgecolor='black')\n",
    "    plt.title(f'Histograma de {col}')\n",
    "    plt.xlabel(col)\n",
    "    plt.ylabel('Frecuencia')\n",
    "    plt.tight_layout()\n",
    "    plt.show()"
   ]
  },
  {
   "cell_type": "code",
   "execution_count": null,
   "id": "138d66ae",
   "metadata": {},
   "outputs": [],
   "source": [
    "# Histograma de categorías de IMC\n",
    "plt.figure(figsize=(8, 6))\n",
    "sns.histplot(df['categoria_imc'], stat='percent', shrink=0.8, color='orange', edgecolor='black')\n",
    "plt.title('Distribución porcentual de categorías de IMC')\n",
    "plt.xlabel('Categoría IMC')\n",
    "plt.ylabel('Porcentaje')\n",
    "plt.tight_layout()\n",
    "plt.show()"
   ]
  },
  {
   "cell_type": "code",
   "execution_count": null,
   "id": "9314bf73",
   "metadata": {},
   "outputs": [],
   "source": [
    "# Dispersión TMB vs IMC diferenciando por Sexo\n",
    "plt.figure(figsize=(8, 6))\n",
    "sns.scatterplot(data=df, x='imc', y='tmb', hue='sexo', palette='autumn')\n",
    "plt.title('Dispersión TMB vs IMC diferenciando por Sexo')\n",
    "plt.tight_layout()\n",
    "plt.show()"
   ]
  },
  {
   "cell_type": "code",
   "execution_count": null,
   "id": "f757c4df",
   "metadata": {},
   "outputs": [],
   "source": [
    "# Mapa de calor de correlaciones\n",
    "plt.figure(figsize=(8, 6))\n",
    "corr = df[num_cols].corr()\n",
    "sns.heatmap(corr, annot=True, cmap='coolwarm', fmt='.2f')\n",
    "plt.title('Mapa de calor de correlaciones')\n",
    "plt.tight_layout()\n",
    "plt.show()"
   ]
  },
  {
   "cell_type": "code",
   "execution_count": null,
   "id": "9bb4438f",
   "metadata": {},
   "outputs": [],
   "source": [
    "# Análisis cualitativo y cuantitativo\n",
    "print(\"\\nResumen cualitativo (categorías IMC):\")\n",
    "print(df['categoria_imc'].value_counts(normalize=True).round(2))\n",
    "\n",
    "print(\"\\nEstadísticas descriptivas:\")\n",
    "print(desc_stats)"
   ]
  }
 ],
 "metadata": {
  "kernelspec": {
   "display_name": "Python 3",
   "name": "python3"
  },
  "language_info": {
   "name": "python"
  }
 },
 "nbformat": 4,
 "nbformat_minor": 5
}
